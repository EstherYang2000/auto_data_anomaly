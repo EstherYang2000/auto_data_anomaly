{
 "cells": [
  {
   "cell_type": "code",
   "execution_count": 1,
   "metadata": {},
   "outputs": [],
   "source": [
    "import pandas as pd"
   ]
  },
  {
   "cell_type": "code",
   "execution_count": 5,
   "metadata": {},
   "outputs": [
    {
     "data": {
      "text/html": [
       "<div>\n",
       "<style scoped>\n",
       "    .dataframe tbody tr th:only-of-type {\n",
       "        vertical-align: middle;\n",
       "    }\n",
       "\n",
       "    .dataframe tbody tr th {\n",
       "        vertical-align: top;\n",
       "    }\n",
       "\n",
       "    .dataframe thead th {\n",
       "        text-align: right;\n",
       "    }\n",
       "</style>\n",
       "<table border=\"1\" class=\"dataframe\">\n",
       "  <thead>\n",
       "    <tr style=\"text-align: right;\">\n",
       "      <th></th>\n",
       "      <th>event_id</th>\n",
       "      <th>created_at</th>\n",
       "      <th>app_version</th>\n",
       "      <th>action</th>\n",
       "      <th>client_id</th>\n",
       "      <th>media_id</th>\n",
       "      <th>user_id</th>\n",
       "    </tr>\n",
       "  </thead>\n",
       "  <tbody>\n",
       "    <tr>\n",
       "      <th>0</th>\n",
       "      <td>ABC32ADF-69A9-4CDA-8971-D2173B3F3F78</td>\n",
       "      <td>2024-08-07 14:33:44.99 UTC</td>\n",
       "      <td>3.42.1</td>\n",
       "      <td>auto_play</td>\n",
       "      <td>828a06832c848ebd109000c56022099e</td>\n",
       "      <td>8665fecb0d616a39310d8c4bdaf58dd5</td>\n",
       "      <td>293e848e571cc18a7550ad57c1500bd1</td>\n",
       "    </tr>\n",
       "    <tr>\n",
       "      <th>1</th>\n",
       "      <td>7296D182-A16F-45ED-8221-4BBD4825727D</td>\n",
       "      <td>2024-09-18 14:08:40.57 UTC</td>\n",
       "      <td>3.42.1</td>\n",
       "      <td>pause</td>\n",
       "      <td>828a06832c848ebd109000c56022099e</td>\n",
       "      <td>804e53f03388fd5754f297844a383afe</td>\n",
       "      <td>293e848e571cc18a7550ad57c1500bd1</td>\n",
       "    </tr>\n",
       "    <tr>\n",
       "      <th>2</th>\n",
       "      <td>46B243C7-CAF9-4195-A4E6-CF8641AD70C6</td>\n",
       "      <td>2024-08-12 15:12:19.504 UTC</td>\n",
       "      <td>3.42.1</td>\n",
       "      <td>auto_play</td>\n",
       "      <td>828a06832c848ebd109000c56022099e</td>\n",
       "      <td>3cb44c07060f26ae28f6f7ea924b4977</td>\n",
       "      <td>293e848e571cc18a7550ad57c1500bd1</td>\n",
       "    </tr>\n",
       "    <tr>\n",
       "      <th>3</th>\n",
       "      <td>1130BFF1-CEB5-4AA6-8D5D-3FCA3D56B8E4</td>\n",
       "      <td>2024-08-04 08:31:10.133 UTC</td>\n",
       "      <td>3.42.1</td>\n",
       "      <td>auto_play</td>\n",
       "      <td>828a06832c848ebd109000c56022099e</td>\n",
       "      <td>a48c6b4b6633d15766552ec4d3d5fe6e</td>\n",
       "      <td>293e848e571cc18a7550ad57c1500bd1</td>\n",
       "    </tr>\n",
       "    <tr>\n",
       "      <th>4</th>\n",
       "      <td>73613180-9722-4E57-B352-9EE4C2D5421D</td>\n",
       "      <td>2024-08-23 08:11:32.264 UTC</td>\n",
       "      <td>3.42.1</td>\n",
       "      <td>pause</td>\n",
       "      <td>828a06832c848ebd109000c56022099e</td>\n",
       "      <td>1121049d2cffa4523e4a26fad16642d6</td>\n",
       "      <td>293e848e571cc18a7550ad57c1500bd1</td>\n",
       "    </tr>\n",
       "  </tbody>\n",
       "</table>\n",
       "</div>"
      ],
      "text/plain": [
       "                               event_id                   created_at  \\\n",
       "0  ABC32ADF-69A9-4CDA-8971-D2173B3F3F78   2024-08-07 14:33:44.99 UTC   \n",
       "1  7296D182-A16F-45ED-8221-4BBD4825727D   2024-09-18 14:08:40.57 UTC   \n",
       "2  46B243C7-CAF9-4195-A4E6-CF8641AD70C6  2024-08-12 15:12:19.504 UTC   \n",
       "3  1130BFF1-CEB5-4AA6-8D5D-3FCA3D56B8E4  2024-08-04 08:31:10.133 UTC   \n",
       "4  73613180-9722-4E57-B352-9EE4C2D5421D  2024-08-23 08:11:32.264 UTC   \n",
       "\n",
       "  app_version     action                         client_id  \\\n",
       "0      3.42.1  auto_play  828a06832c848ebd109000c56022099e   \n",
       "1      3.42.1      pause  828a06832c848ebd109000c56022099e   \n",
       "2      3.42.1  auto_play  828a06832c848ebd109000c56022099e   \n",
       "3      3.42.1  auto_play  828a06832c848ebd109000c56022099e   \n",
       "4      3.42.1      pause  828a06832c848ebd109000c56022099e   \n",
       "\n",
       "                           media_id                           user_id  \n",
       "0  8665fecb0d616a39310d8c4bdaf58dd5  293e848e571cc18a7550ad57c1500bd1  \n",
       "1  804e53f03388fd5754f297844a383afe  293e848e571cc18a7550ad57c1500bd1  \n",
       "2  3cb44c07060f26ae28f6f7ea924b4977  293e848e571cc18a7550ad57c1500bd1  \n",
       "3  a48c6b4b6633d15766552ec4d3d5fe6e  293e848e571cc18a7550ad57c1500bd1  \n",
       "4  1121049d2cffa4523e4a26fad16642d6  293e848e571cc18a7550ad57c1500bd1  "
      ]
     },
     "execution_count": 5,
     "metadata": {},
     "output_type": "execute_result"
    }
   ],
   "source": [
    "data = pd.read_csv('/Users/yangyujie/Documents/dcard/auto_data_anomaly/data/video_interactions.csv')\n",
    "data.head()"
   ]
  },
  {
   "cell_type": "code",
   "execution_count": 6,
   "metadata": {},
   "outputs": [
    {
     "name": "stdout",
     "output_type": "stream",
     "text": [
      "<class 'pandas.core.frame.DataFrame'>\n",
      "RangeIndex: 943603 entries, 0 to 943602\n",
      "Data columns (total 7 columns):\n",
      " #   Column       Non-Null Count   Dtype \n",
      "---  ------       --------------   ----- \n",
      " 0   event_id     943603 non-null  object\n",
      " 1   created_at   943603 non-null  object\n",
      " 2   app_version  943603 non-null  object\n",
      " 3   action       943603 non-null  object\n",
      " 4   client_id    943603 non-null  object\n",
      " 5   media_id     943603 non-null  object\n",
      " 6   user_id      943603 non-null  object\n",
      "dtypes: object(7)\n",
      "memory usage: 50.4+ MB\n"
     ]
    }
   ],
   "source": [
    "data.info()"
   ]
  },
  {
   "cell_type": "code",
   "execution_count": 7,
   "metadata": {},
   "outputs": [
    {
     "data": {
      "text/html": [
       "<div>\n",
       "<style scoped>\n",
       "    .dataframe tbody tr th:only-of-type {\n",
       "        vertical-align: middle;\n",
       "    }\n",
       "\n",
       "    .dataframe tbody tr th {\n",
       "        vertical-align: top;\n",
       "    }\n",
       "\n",
       "    .dataframe thead th {\n",
       "        text-align: right;\n",
       "    }\n",
       "</style>\n",
       "<table border=\"1\" class=\"dataframe\">\n",
       "  <thead>\n",
       "    <tr style=\"text-align: right;\">\n",
       "      <th></th>\n",
       "      <th>event_id</th>\n",
       "      <th>created_at</th>\n",
       "      <th>app_version</th>\n",
       "      <th>action</th>\n",
       "      <th>client_id</th>\n",
       "      <th>media_id</th>\n",
       "      <th>user_id</th>\n",
       "    </tr>\n",
       "  </thead>\n",
       "  <tbody>\n",
       "    <tr>\n",
       "      <th>count</th>\n",
       "      <td>943603</td>\n",
       "      <td>943603</td>\n",
       "      <td>943603</td>\n",
       "      <td>943603</td>\n",
       "      <td>943603</td>\n",
       "      <td>943603</td>\n",
       "      <td>943603</td>\n",
       "    </tr>\n",
       "    <tr>\n",
       "      <th>unique</th>\n",
       "      <td>307351</td>\n",
       "      <td>915350</td>\n",
       "      <td>59</td>\n",
       "      <td>5</td>\n",
       "      <td>300</td>\n",
       "      <td>7037</td>\n",
       "      <td>304</td>\n",
       "    </tr>\n",
       "    <tr>\n",
       "      <th>top</th>\n",
       "      <td>0D738912-BC94-4482-8E8B-A29613631B0C</td>\n",
       "      <td>2024-09-03 12:53:45.554 UTC</td>\n",
       "      <td>3.158.0</td>\n",
       "      <td>pause</td>\n",
       "      <td>abe8b2c45b92ed5ce787a1bb9f8ddcab</td>\n",
       "      <td>e108248da1183ef729efdcc6013a0505</td>\n",
       "      <td>4684f1d450b537e77860c689d96309d7</td>\n",
       "    </tr>\n",
       "    <tr>\n",
       "      <th>freq</th>\n",
       "      <td>2973</td>\n",
       "      <td>5</td>\n",
       "      <td>154494</td>\n",
       "      <td>544714</td>\n",
       "      <td>3160</td>\n",
       "      <td>5483</td>\n",
       "      <td>14346</td>\n",
       "    </tr>\n",
       "  </tbody>\n",
       "</table>\n",
       "</div>"
      ],
      "text/plain": [
       "                                    event_id                   created_at  \\\n",
       "count                                 943603                       943603   \n",
       "unique                                307351                       915350   \n",
       "top     0D738912-BC94-4482-8E8B-A29613631B0C  2024-09-03 12:53:45.554 UTC   \n",
       "freq                                    2973                            5   \n",
       "\n",
       "       app_version  action                         client_id  \\\n",
       "count       943603  943603                            943603   \n",
       "unique          59       5                               300   \n",
       "top        3.158.0   pause  abe8b2c45b92ed5ce787a1bb9f8ddcab   \n",
       "freq        154494  544714                              3160   \n",
       "\n",
       "                                media_id                           user_id  \n",
       "count                             943603                            943603  \n",
       "unique                              7037                               304  \n",
       "top     e108248da1183ef729efdcc6013a0505  4684f1d450b537e77860c689d96309d7  \n",
       "freq                                5483                             14346  "
      ]
     },
     "execution_count": 7,
     "metadata": {},
     "output_type": "execute_result"
    }
   ],
   "source": [
    "data.describe()"
   ]
  },
  {
   "cell_type": "code",
   "execution_count": 11,
   "metadata": {},
   "outputs": [
    {
     "data": {
      "text/plain": [
       "'2024-09-18 23:58:25.807 UTC'"
      ]
     },
     "execution_count": 11,
     "metadata": {},
     "output_type": "execute_result"
    }
   ],
   "source": [
    "data['created_at'].max()\n"
   ]
  },
  {
   "cell_type": "code",
   "execution_count": 12,
   "metadata": {},
   "outputs": [
    {
     "data": {
      "text/plain": [
       "'2024-03-20 15:38:01.638 UTC'"
      ]
     },
     "execution_count": 12,
     "metadata": {},
     "output_type": "execute_result"
    }
   ],
   "source": [
    "data['created_at'].min()"
   ]
  },
  {
   "cell_type": "code",
   "execution_count": 9,
   "metadata": {},
   "outputs": [
    {
     "data": {
      "text/html": [
       "<div>\n",
       "<style scoped>\n",
       "    .dataframe tbody tr th:only-of-type {\n",
       "        vertical-align: middle;\n",
       "    }\n",
       "\n",
       "    .dataframe tbody tr th {\n",
       "        vertical-align: top;\n",
       "    }\n",
       "\n",
       "    .dataframe thead th {\n",
       "        text-align: right;\n",
       "    }\n",
       "</style>\n",
       "<table border=\"1\" class=\"dataframe\">\n",
       "  <thead>\n",
       "    <tr style=\"text-align: right;\">\n",
       "      <th></th>\n",
       "      <th>event_id</th>\n",
       "      <th>created_at</th>\n",
       "      <th>app_version</th>\n",
       "      <th>action</th>\n",
       "      <th>client_id</th>\n",
       "      <th>media_id</th>\n",
       "      <th>user_id</th>\n",
       "    </tr>\n",
       "  </thead>\n",
       "  <tbody>\n",
       "    <tr>\n",
       "      <th>397242</th>\n",
       "      <td>000015A5-DCFB-4E84-BDAD-4919FF0375BD</td>\n",
       "      <td>2024-08-10 10:48:14.896 UTC</td>\n",
       "      <td>3.157.0</td>\n",
       "      <td>auto_play</td>\n",
       "      <td>750bd1a94f67abdefd87b9cad4862932</td>\n",
       "      <td>b0fbb9bf08f549430e6c80c9e807b0b0</td>\n",
       "      <td>f73b50db2f1b06a53e17f1d5f3a03c33</td>\n",
       "    </tr>\n",
       "    <tr>\n",
       "      <th>397957</th>\n",
       "      <td>000015A5-DCFB-4E84-BDAD-4919FF0375BD</td>\n",
       "      <td>2024-08-10 10:48:26.08 UTC</td>\n",
       "      <td>3.157.0</td>\n",
       "      <td>pause</td>\n",
       "      <td>750bd1a94f67abdefd87b9cad4862932</td>\n",
       "      <td>b0fbb9bf08f549430e6c80c9e807b0b0</td>\n",
       "      <td>f73b50db2f1b06a53e17f1d5f3a03c33</td>\n",
       "    </tr>\n",
       "    <tr>\n",
       "      <th>398097</th>\n",
       "      <td>000015A5-DCFB-4E84-BDAD-4919FF0375BD</td>\n",
       "      <td>2024-08-10 10:48:26.08 UTC</td>\n",
       "      <td>3.157.0</td>\n",
       "      <td>pause</td>\n",
       "      <td>750bd1a94f67abdefd87b9cad4862932</td>\n",
       "      <td>b0fbb9bf08f549430e6c80c9e807b0b0</td>\n",
       "      <td>f73b50db2f1b06a53e17f1d5f3a03c33</td>\n",
       "    </tr>\n",
       "  </tbody>\n",
       "</table>\n",
       "</div>"
      ],
      "text/plain": [
       "                                    event_id                   created_at  \\\n",
       "397242  000015A5-DCFB-4E84-BDAD-4919FF0375BD  2024-08-10 10:48:14.896 UTC   \n",
       "397957  000015A5-DCFB-4E84-BDAD-4919FF0375BD   2024-08-10 10:48:26.08 UTC   \n",
       "398097  000015A5-DCFB-4E84-BDAD-4919FF0375BD   2024-08-10 10:48:26.08 UTC   \n",
       "\n",
       "       app_version     action                         client_id  \\\n",
       "397242     3.157.0  auto_play  750bd1a94f67abdefd87b9cad4862932   \n",
       "397957     3.157.0      pause  750bd1a94f67abdefd87b9cad4862932   \n",
       "398097     3.157.0      pause  750bd1a94f67abdefd87b9cad4862932   \n",
       "\n",
       "                                media_id                           user_id  \n",
       "397242  b0fbb9bf08f549430e6c80c9e807b0b0  f73b50db2f1b06a53e17f1d5f3a03c33  \n",
       "397957  b0fbb9bf08f549430e6c80c9e807b0b0  f73b50db2f1b06a53e17f1d5f3a03c33  \n",
       "398097  b0fbb9bf08f549430e6c80c9e807b0b0  f73b50db2f1b06a53e17f1d5f3a03c33  "
      ]
     },
     "execution_count": 9,
     "metadata": {},
     "output_type": "execute_result"
    }
   ],
   "source": [
    "data[data['event_id']=='000015A5-DCFB-4E84-BDAD-4919FF0375BD']"
   ]
  }
 ],
 "metadata": {
  "kernelspec": {
   "display_name": "ntu-dac-ml",
   "language": "python",
   "name": "python3"
  },
  "language_info": {
   "codemirror_mode": {
    "name": "ipython",
    "version": 3
   },
   "file_extension": ".py",
   "mimetype": "text/x-python",
   "name": "python",
   "nbconvert_exporter": "python",
   "pygments_lexer": "ipython3",
   "version": "3.9.16"
  }
 },
 "nbformat": 4,
 "nbformat_minor": 2
}
